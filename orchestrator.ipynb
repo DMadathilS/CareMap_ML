{
 "cells": [
  {
   "cell_type": "markdown",
   "id": "5ca7b775",
   "metadata": {},
   "source": [
    "# fetch provider Data and save in folder"
   ]
  },
  {
   "cell_type": "code",
   "execution_count": 1,
   "id": "c132bed1",
   "metadata": {},
   "outputs": [
    {
     "name": "stdout",
     "output_type": "stream",
     "text": [
      "[INFO] Starting provider data download...\n",
      "\n",
      "[✓] Saved data for Chiro to data-collection\\provider\\Chiro.json\n",
      "[✓] Saved data for Physio to data-collection\\provider\\Physio.json\n",
      "[✓] Saved data for Massage to data-collection\\provider\\Massage.json\n",
      "[✓] Saved data for MI to data-collection\\provider\\MI.json\n",
      "[✓] Saved data for Orthodontic to data-collection\\provider\\Orthodontic.json\n",
      "[✓] Saved data for Podiatry to data-collection\\provider\\Podiatry.json\n",
      "[✓] Saved data for Acupuncture to data-collection\\provider\\Acupuncture.json\n",
      "[✓] Saved data for Speech to data-collection\\provider\\Speech.json\n",
      "[✓] Saved data for Chiropody to data-collection\\provider\\Chiropody.json\n",
      "[✓] Saved data for Naturopathy to data-collection\\provider\\Naturopathy.json\n",
      "[✓] Saved data for Psychology to data-collection\\provider\\Psychology.json\n",
      "[✓] Saved data for Dental to data-collection\\provider\\Dental.json\n",
      "[✓] Saved data for Osteopath to data-collection\\provider\\Osteopath.json\n",
      "[✓] Saved data for Audiologist to data-collection\\provider\\Audiologist.json\n",
      "[✓] Saved data for Athletic to data-collection\\provider\\Athletic.json\n",
      "[✓] Saved data for Dietician to data-collection\\provider\\Dietician.json\n",
      "[✓] Saved data for Homeopath to data-collection\\provider\\Homeopath.json\n",
      "[✓] Saved data for Occupational to data-collection\\provider\\Occupational.json\n",
      "[✓] Saved data for Drug to data-collection\\provider\\Drug.json\n",
      "[✓] Saved data for MasterOfSocialWork to data-collection\\provider\\MasterOfSocialWork.json\n",
      "[✓] Saved data for SocialWorker to data-collection\\provider\\SocialWorker.json\n",
      "[✓] Saved data for Vision to data-collection\\provider\\Vision.json\n",
      "[✓] Saved data for Psychotherapist to data-collection\\provider\\Psychotherapist.json\n",
      "[✓] Saved data for Counselling to data-collection\\provider\\Counselling.json\n",
      "\n",
      "[INFO] All provider types processed.\n"
     ]
    }
   ],
   "source": [
    "#!/usr/bin/env python3\n",
    "\n",
    "import requests\n",
    "import os\n",
    "import json\n",
    "from pathlib import Path\n",
    "\n",
    "# List of provider types\n",
    "PROVIDER_TYPES = [\n",
    "    \"Chiro\", \"Physio\", \"Massage\", \"MI\", \"Orthodontic\", \"Podiatry\",\n",
    "    \"Acupuncture\", \"Speech\", \"Chiropody\", \"Naturopathy\", \"Psychology\",\n",
    "    \"Dental\", \"Osteopath\", \"Audiologist\", \"Athletic\", \"Dietician\",\n",
    "    \"Homeopath\", \"Occupational\", \"Drug\", \"MasterOfSocialWork\",\n",
    "    \"SocialWorker\", \"Vision\", \"Psychotherapist\", \"Counselling\"\n",
    "]\n",
    "\n",
    "# Output directory\n",
    "OUTPUT_DIR = Path(\"data-collection/provider\")\n",
    "OUTPUT_DIR.mkdir(parents=True, exist_ok=True)\n",
    "\n",
    "# API URL (base)\n",
    "BASE_URL = (\n",
    "    \"https://students-healthportal.securiancanada.ca/pmos-api-b2c/api/v1/Providers/search\"\n",
    "    \"?ProviderType={provider}&Latitude=43.4511&Longitude=-80.4926\"\n",
    "    \"&SourceLatitude=43.4511&SourceLongitude=-80.4926&SortingType=distance\"\n",
    "    \"&SearchType=ProviderType&Distance=30&PageNo=1&PageSize=200\"\n",
    "    \"&ProviderRating=&IsDelisted=&DirectBilling=\"\n",
    ")\n",
    "\n",
    "# Set your Bearer token here\n",
    "AUTH_TOKEN = \"eyJhbGciOiJSUzI1NiIsImtpZCI6IlVaNDc1ZE0wa0dXV2xKNFFOVzFWY0kzZkNJaUZpZ0tKa25abnlPbW9wY00iLCJ0eXAiOiJKV1QifQ.eyJhdWQiOiI2NTgzNjg2Yi02Y2U1LTQ0MmQtYTU1My1iZjA3M2JjODdjMzIiLCJpc3MiOiJodHRwczovL2dzY3Byb2RiMmMuYjJjbG9naW4uY29tLzk5OGEwMzhlLThkNWMtNDE5Yi05NjYzLWViZTE1MDYxODE1MC92Mi4wLyIsImV4cCI6MTc0OTUyMzY3NywibmJmIjoxNzQ5NTIxODc3LCJzc28iOmZhbHNlLCJzdWIiOiI1Y2E5NDQ5MC0xNTgxLTQ2YWEtYTRkMS1iMGUzN2U2MjYzNzciLCJuYW1lIjoiZHBhdGVsNjQzNUBjb25lc3RvZ2FjLm9uLmNhIiwidGZwIjoiQjJDXzFBX1BNX1NpZ25JblNpZ25VcCIsInRpZCI6Ijk5OGEwMzhlLThkNWMtNDE5Yi05NjYzLWViZTE1MDYxODE1MCIsImNsaWVudF9pZCI6InBtb3MtZnJvbnRlbmQtZ3NjIiwiY2xpZW50X2N0eXBlIjoiUE0iLCJjc2lkIjoiY2UxYTdiNzItM2QxMC00ZTE2LWJiNjQtMWRiNzFkMWUyMTFhIiwibm9uY2UiOiIzYzY3OWZjMC1kZTA2LTQ4MjgtYjdhYy1lNzEzMTVhOGUyYjAiLCJzY3AiOiJwbW9zLWFwaSBkaWdpdGFsLXByb2R1Y3RzLWFwaSIsImF6cCI6ImU0YmM4ZWExLTM2YmYtNDhiMC05Mjg2LWVmMTdkNTFjYzc3YiIsInZlciI6IjEuMCIsImlhdCI6MTc0OTUyMTg3N30.ZRtAob-rojdnB8-p3WMU3QAUcqrIvrOThihE9AcFqQ3X33AHkRSpteGgCgbmPeyKwXyhHmXWSMmd88mvvBbx_29PJU4boryVCb8_3C1Mjx9I-njVxz91OXhOMJDGM4sHeQ7HXw_NPVg5gYd9TrngCAZYQkGfJiyP_aCnpOpzfv7BaZUbgNgCHkQ7py_5kW9ePGjKw-GRn3IZVXiekxwFaKIhJO5bCH7RMNJYrqvUAI_yPGNF_QaJRwNlPhbukvgmUSNKGsjKRs7waGTt-8EPZ3v9yUsVOgIHsU9hTgOTG1ZA5RN8C5q8pSQgP6qMHusdkvf0XC2n2DBz26gIqQU-GA\"\n",
    "\n",
    "# HTTP headers with authorization\n",
    "HEADERS = {\n",
    "    \"Authorization\": f\"Bearer {AUTH_TOKEN}\",\n",
    "    \"Accept\": \"application/json\"\n",
    "}\n",
    "\n",
    "def fetch_and_save(provider_type: str):\n",
    "    \"\"\"Fetch data for a provider type and save as JSON file.\"\"\"\n",
    "    url = BASE_URL.format(provider=provider_type)\n",
    "    try:\n",
    "        response = requests.get(url, headers=HEADERS, timeout=15)\n",
    "        response.raise_for_status()\n",
    "        data = response.json()\n",
    "\n",
    "        # Save response to file\n",
    "        file_path = OUTPUT_DIR / f\"{provider_type}.json\"\n",
    "        with open(file_path, \"w\", encoding=\"utf-8\") as f:\n",
    "            json.dump(data, f, indent=2)\n",
    "        print(f\"[✓] Saved data for {provider_type} to {file_path}\")\n",
    "    except requests.RequestException as e:\n",
    "        print(f\"[ERROR] Failed to fetch {provider_type}: {e}\")\n",
    "\n",
    "def main():\n",
    "    print(\"[INFO] Starting provider data download...\\n\")\n",
    "    for provider in PROVIDER_TYPES:\n",
    "        fetch_and_save(provider)\n",
    "    print(\"\\n[INFO] All provider types processed.\")\n",
    "\n",
    "if __name__ == \"__main__\":\n",
    "    main()\n"
   ]
  },
  {
   "cell_type": "code",
   "execution_count": null,
   "id": "69e6556a",
   "metadata": {},
   "outputs": [],
   "source": []
  }
 ],
 "metadata": {
  "kernelspec": {
   "display_name": "base",
   "language": "python",
   "name": "python3"
  },
  "language_info": {
   "codemirror_mode": {
    "name": "ipython",
    "version": 3
   },
   "file_extension": ".py",
   "mimetype": "text/x-python",
   "name": "python",
   "nbconvert_exporter": "python",
   "pygments_lexer": "ipython3",
   "version": "3.11.5"
  }
 },
 "nbformat": 4,
 "nbformat_minor": 5
}
